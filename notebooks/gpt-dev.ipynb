{
 "cells": [
  {
   "cell_type": "code",
   "execution_count": 1,
   "id": "1bc02b1c",
   "metadata": {},
   "outputs": [],
   "source": [
    "text: str = None\n",
    "with open('../data/input.txt', 'r', encoding='utf-8') as f:\n",
    "  text = f.read()"
   ]
  },
  {
   "cell_type": "code",
   "execution_count": 2,
   "id": "8be7eb01",
   "metadata": {},
   "outputs": [
    {
     "name": "stdout",
     "output_type": "stream",
     "text": [
      "1115394 characters\n"
     ]
    }
   ],
   "source": [
    "print(len(text), 'characters')"
   ]
  },
  {
   "cell_type": "code",
   "execution_count": 3,
   "id": "177f2b16",
   "metadata": {},
   "outputs": [
    {
     "name": "stdout",
     "output_type": "stream",
     "text": [
      "First Citizen:\n",
      "Before we proceed any further, hear me speak.\n",
      "\n",
      "All:\n",
      "Speak, speak.\n",
      "\n",
      "First Citizen:\n",
      "You are all resolved rather to die than to famish?\n",
      "\n",
      "All:\n",
      "Resolved. resolved.\n",
      "\n",
      "First Citizen:\n",
      "First, you know Caius Marcius is chief enemy to the people.\n",
      "\n"
     ]
    }
   ],
   "source": [
    "print(text[:250])"
   ]
  },
  {
   "cell_type": "code",
   "execution_count": 4,
   "id": "a602f1db",
   "metadata": {},
   "outputs": [
    {
     "name": "stdout",
     "output_type": "stream",
     "text": [
      "\n",
      " !$&',-.3:;?ABCDEFGHIJKLMNOPQRSTUVWXYZabcdefghijklmnopqrstuvwxyz\n",
      "65\n"
     ]
    }
   ],
   "source": [
    "chars: list[str] = sorted(list(set(text)))\n",
    "vocab_size: int = len(chars)\n",
    "print(''.join(chars))\n",
    "print(vocab_size)"
   ]
  },
  {
   "cell_type": "code",
   "execution_count": 5,
   "id": "26d36888",
   "metadata": {},
   "outputs": [
    {
     "name": "stdout",
     "output_type": "stream",
     "text": [
      "[46, 47, 47, 1, 58, 46, 43, 56, 43]\n",
      "hii there\n"
     ]
    }
   ],
   "source": [
    "from typing import Callable\n",
    "\n",
    "stoi: dict[str, int] = { ch: i for i, ch in enumerate(chars) }\n",
    "itos: dict[int, str] = { i: ch for i, ch in enumerate(chars) }\n",
    "encode: Callable[[str], list[int]] = lambda s: [stoi[c] for c in s]\n",
    "decode: Callable[[int], str] = lambda l: ''.join([itos[i] for i in l])\n",
    "\n",
    "print(encode('hii there'))\n",
    "print(decode(encode('hii there')))"
   ]
  },
  {
   "cell_type": "code",
   "execution_count": 6,
   "id": "aa4a30aa",
   "metadata": {},
   "outputs": [
    {
     "name": "stdout",
     "output_type": "stream",
     "text": [
      "torch.Size([1115394]) of type torch.int64\n",
      "tensor([18, 47, 56, 57, 58,  1, 15, 47, 58, 47, 64, 43, 52, 10,  0, 14, 43, 44,\n",
      "        53, 56, 43,  1, 61, 43,  1, 54, 56, 53, 41, 43, 43, 42,  1, 39, 52, 63,\n",
      "         1, 44, 59, 56, 58, 46, 43, 56,  6,  1, 46, 43, 39, 56,  1, 51, 43,  1,\n",
      "        57, 54, 43, 39, 49,  8,  0,  0, 13, 50, 50, 10,  0, 31, 54, 43, 39, 49,\n",
      "         6,  1, 57, 54, 43, 39, 49,  8,  0,  0, 18, 47, 56, 57, 58,  1, 15, 47,\n",
      "        58, 47, 64, 43, 52, 10,  0, 37, 53, 59,  1, 39, 56, 43,  1, 39, 50, 50,\n",
      "         1, 56, 43, 57, 53, 50, 60, 43, 42,  1, 56, 39, 58, 46, 43, 56,  1, 58,\n",
      "        53,  1, 42, 47, 43,  1, 58, 46, 39, 52,  1, 58, 53,  1, 44, 39, 51, 47,\n",
      "        57, 46, 12,  0,  0, 13, 50, 50, 10,  0, 30, 43, 57, 53, 50, 60, 43, 42,\n",
      "         8,  1, 56, 43, 57, 53, 50, 60, 43, 42,  8,  0,  0, 18, 47, 56, 57, 58,\n",
      "         1, 15, 47, 58, 47, 64, 43, 52, 10,  0, 18, 47, 56, 57, 58,  6,  1, 63,\n",
      "        53, 59,  1, 49, 52, 53, 61,  1, 15, 39, 47, 59, 57,  1, 25, 39, 56, 41,\n",
      "        47, 59, 57,  1, 47, 57,  1, 41, 46, 47, 43, 44,  1, 43, 52, 43, 51, 63,\n",
      "         1, 58, 53,  1, 58, 46, 43,  1, 54, 43, 53, 54, 50, 43,  8,  0])\n"
     ]
    }
   ],
   "source": [
    "import torch\n",
    "from torch import tensor\n",
    "data: tensor = tensor(encode(text), dtype=torch.long)\n",
    "print(data.size(), 'of type', data.dtype)\n",
    "print(data[:250])"
   ]
  },
  {
   "cell_type": "code",
   "execution_count": 7,
   "id": "ad7bd35b",
   "metadata": {},
   "outputs": [],
   "source": [
    "# Split into train and validation sets\n",
    "n: int = int(0.9 * len(data))\n",
    "train_data: tensor = data[:n]\n",
    "val_data: tensor = data[n:]"
   ]
  },
  {
   "cell_type": "code",
   "execution_count": 8,
   "id": "a98215f6",
   "metadata": {},
   "outputs": [
    {
     "data": {
      "text/plain": [
       "tensor([18, 47, 56, 57, 58,  1, 15, 47, 58])"
      ]
     },
     "execution_count": 8,
     "metadata": {},
     "output_type": "execute_result"
    }
   ],
   "source": [
    "# Maximum sequence length\n",
    "block_size: int = 8\n",
    "train_data[:block_size + 1]"
   ]
  },
  {
   "cell_type": "code",
   "execution_count": 9,
   "id": "5ac6c398",
   "metadata": {},
   "outputs": [
    {
     "name": "stdout",
     "output_type": "stream",
     "text": [
      "when input is tensor([18]), the target is 47\n",
      "when input is tensor([18, 47]), the target is 56\n",
      "when input is tensor([18, 47, 56]), the target is 57\n",
      "when input is tensor([18, 47, 56, 57]), the target is 58\n",
      "when input is tensor([18, 47, 56, 57, 58]), the target is 1\n",
      "when input is tensor([18, 47, 56, 57, 58,  1]), the target is 15\n",
      "when input is tensor([18, 47, 56, 57, 58,  1, 15]), the target is 47\n",
      "when input is tensor([18, 47, 56, 57, 58,  1, 15, 47]), the target is 58\n"
     ]
    }
   ],
   "source": [
    "# This one input block x actually encompasses 8 possible training samples.\n",
    "#\n",
    "# This is the source of the motivation for using future masking during\n",
    "# training.\n",
    "#\n",
    "# There are two primary reasons this is useful:\n",
    "# 1) It enables a high degree of computational efficiency when we implement\n",
    "#    future masking to train the model on multiple variable-length contexts\n",
    "# 2) Training the model on every possible length of context size means the\n",
    "#    model gains exposure to context lengths (i.e. prompts) consisting of\n",
    "#    as few as 1 token, yielding a model capable of reasoning over a wider\n",
    "#    variety of prompts\n",
    "x: tensor = train_data[:block_size]\n",
    "y:tensor =  train_data[1: block_size + 1]\n",
    "for t in range(block_size):\n",
    "  context = x[:t + 1]\n",
    "  target = y[t]\n",
    "  print(f'when input is {context}, the target is {target}')"
   ]
  },
  {
   "cell_type": "code",
   "execution_count": 10,
   "id": "680a6352",
   "metadata": {},
   "outputs": [
    {
     "name": "stdout",
     "output_type": "stream",
     "text": [
      "inputs:\n",
      "torch.Size([4, 8])\n",
      "tensor([[24, 43, 58,  5, 57,  1, 46, 43],\n",
      "        [44, 53, 56,  1, 58, 46, 39, 58],\n",
      "        [52, 58,  1, 58, 46, 39, 58,  1],\n",
      "        [25, 17, 27, 10,  0, 21,  1, 54]])\n",
      "targets:\n",
      "torch.Size([4, 8])\n",
      "tensor([[43, 58,  5, 57,  1, 46, 43, 39],\n",
      "        [53, 56,  1, 58, 46, 39, 58,  1],\n",
      "        [58,  1, 58, 46, 39, 58,  1, 46],\n",
      "        [17, 27, 10,  0, 21,  1, 54, 39]])\n",
      "---\n",
      "when input is [24], the target is 43\n",
      "when input is [24, 43], the target is 58\n",
      "when input is [24, 43, 58], the target is 5\n",
      "when input is [24, 43, 58, 5], the target is 57\n",
      "when input is [24, 43, 58, 5, 57], the target is 1\n",
      "when input is [24, 43, 58, 5, 57, 1], the target is 46\n",
      "when input is [24, 43, 58, 5, 57, 1, 46], the target is 43\n",
      "when input is [24, 43, 58, 5, 57, 1, 46, 43], the target is 39\n",
      "when input is [44], the target is 53\n",
      "when input is [44, 53], the target is 56\n",
      "when input is [44, 53, 56], the target is 1\n",
      "when input is [44, 53, 56, 1], the target is 58\n",
      "when input is [44, 53, 56, 1, 58], the target is 46\n",
      "when input is [44, 53, 56, 1, 58, 46], the target is 39\n",
      "when input is [44, 53, 56, 1, 58, 46, 39], the target is 58\n",
      "when input is [44, 53, 56, 1, 58, 46, 39, 58], the target is 1\n",
      "when input is [52], the target is 58\n",
      "when input is [52, 58], the target is 1\n",
      "when input is [52, 58, 1], the target is 58\n",
      "when input is [52, 58, 1, 58], the target is 46\n",
      "when input is [52, 58, 1, 58, 46], the target is 39\n",
      "when input is [52, 58, 1, 58, 46, 39], the target is 58\n",
      "when input is [52, 58, 1, 58, 46, 39, 58], the target is 1\n",
      "when input is [52, 58, 1, 58, 46, 39, 58, 1], the target is 46\n",
      "when input is [25], the target is 17\n",
      "when input is [25, 17], the target is 27\n",
      "when input is [25, 17, 27], the target is 10\n",
      "when input is [25, 17, 27, 10], the target is 0\n",
      "when input is [25, 17, 27, 10, 0], the target is 21\n",
      "when input is [25, 17, 27, 10, 0, 21], the target is 1\n",
      "when input is [25, 17, 27, 10, 0, 21, 1], the target is 54\n",
      "when input is [25, 17, 27, 10, 0, 21, 1, 54], the target is 39\n"
     ]
    }
   ],
   "source": [
    "torch.manual_seed(1337)\n",
    "batch_size: int = 4\n",
    "block_size: int = 8\n",
    "\n",
    "def get_batch(split: str) -> tuple[tensor, tensor]:\n",
    "  data: tensor = train_data if split == 'train' else val_data\n",
    "\n",
    "  # Pick `batch_size` number of random offsets into the dataset\n",
    "  offsets: tensor = torch.randint(len(data) - block_size, (batch_size,))\n",
    "  x: tensor = torch.stack([data[i: i + block_size] for i in offsets])\n",
    "  y: tensor = torch.stack([data[i + 1: i + block_size + 1] for i in offsets])\n",
    "\n",
    "  return x, y\n",
    "\n",
    "# The (4, 8) batch `xb` contains 32 independent (as far as the transformer\n",
    "# is concerned) usable training samples. `yb` comes into use at the very\n",
    "# end when we compose the loss function.\n",
    "xb, yb = get_batch('train')\n",
    "print('inputs:')\n",
    "print(xb.size())\n",
    "print(xb)\n",
    "print('targets:')\n",
    "print(yb.size())\n",
    "print(yb)\n",
    "print('---')\n",
    "\n",
    "for b in range(batch_size):\n",
    "  for t in range(block_size):\n",
    "    context: tensor = xb[b, :t + 1]\n",
    "    target: tensor = yb[b, t]\n",
    "    print(f'when input is {context.tolist()}, the target is {target}')"
   ]
  },
  {
   "cell_type": "markdown",
   "id": "00003a2d",
   "metadata": {},
   "source": [
    "## Baseline Bigram Model"
   ]
  },
  {
   "cell_type": "code",
   "execution_count": 23,
   "id": "0cc33aed",
   "metadata": {},
   "outputs": [
    {
     "name": "stdout",
     "output_type": "stream",
     "text": [
      "torch.Size([32, 65])\n",
      "tensor(4.8786, grad_fn=<NllLossBackward0>)\n",
      "torch.Size([1, 101])\n",
      "\n",
      "pdcbf?pGXepydZJSrF$Jrqt!:wwWSzPNxbjPiD&Q!a;yNt$Kr$o-gC$WSjJqfBKBySKtSKpwNNfyl&w:q-jluBatD$Lj;?yzyUca\n"
     ]
    }
   ],
   "source": [
    "import torch\n",
    "import torch.nn as nn\n",
    "from torch.nn import functional as F\n",
    "\n",
    "torch.manual_seed(1337)\n",
    "\n",
    "class BigramLanguageModel(nn.Module):\n",
    "  def __init__(self, vocab_size: int) -> None:\n",
    "    super().__init__()\n",
    "    \n",
    "    # Each token directly reads off the logits for the next token\n",
    "    # from a lookup table.\n",
    "    #\n",
    "    # For example, given input index 25, we will retrieve row\n",
    "    # 25 from this table, and that row will contain `vocab_size`\n",
    "    # scores, one score corresponding to each possible subsequent\n",
    "    # token.\n",
    "    #\n",
    "    # From there we can basically just softmax that entire row\n",
    "    # to get a probability distribution over the likelihood of\n",
    "    # seeing any given token appear next.\n",
    "    self.token_embeddings = nn.Embedding(vocab_size, vocab_size)\n",
    "\n",
    "  def forward(self, idx: tensor, targets: tensor = None) -> tuple[tensor]:\n",
    "    # Let:\n",
    "    # - B: batch size [4]\n",
    "    # - T: maximum sequence/block length [8]\n",
    "    # - C: embedding size/dimensionality [65]\n",
    "\n",
    "    # idx and targets both have shape (B, T)\n",
    "    logits: tensor = self.token_embeddings(idx) # (B, T) => (B, T, C)\n",
    "\n",
    "    loss: tensor = None\n",
    "    if targets != None:\n",
    "      # PyTorch cross entropy wants (B, C) shape, so we reshape our\n",
    "      # tensors to accommodate\n",
    "      #\n",
    "      # TODO\n",
    "      # Try just logits.transpose(1, 2): (B, T, C) => (B, C, T) with\n",
    "      # targets: (B, T) where each cell in `targets` contains the index\n",
    "      # of the correct class.\n",
    "      B, T, C = logits.size()\n",
    "      logits = logits.view(B * T, C)\n",
    "      targets = targets.view(B * T)\n",
    "      loss = F.cross_entropy(logits, targets)\n",
    "\n",
    "    return logits, loss\n",
    "  \n",
    "  def generate(self, idx: tensor, max_new_tokens: int) -> tensor:\n",
    "    # idx: (B, T) tensor of indices in the current context\n",
    "    for _ in range(max_new_tokens):\n",
    "      # get predictions\n",
    "      logits, loss = self(idx)\n",
    "\n",
    "      # focus only on the last token in the sequence since this is\n",
    "      # for a bigram model - given a single token, we're trying to\n",
    "      # predict the next token, thereby generating a bigram.\n",
    "      #\n",
    "      # note that this is computationally sort of absurd since this\n",
    "      # generate function consumes the entire history of generated\n",
    "      # tokens so far but only ever uses the last generated token.\n",
    "      #\n",
    "      # this total history of generated tokens will become useful\n",
    "      # when we implement a transformer that can attend to all\n",
    "      # prior generated tokens so we will keep it this way, but\n",
    "      # just note that it's silly for this particular bigram model.\n",
    "      logits = logits[:, -1, :] # (B, T, C) => (B, C)\n",
    "\n",
    "      # convert to probability distribution\n",
    "      probs = F.softmax(logits, dim=-1) # (B, C) => (B, C)\n",
    "\n",
    "      # sample from the distribution\n",
    "      idx_next = torch.multinomial(probs, num_samples=1) # (B, 1)\n",
    "\n",
    "      # append sampled index to the running sequence\n",
    "      idx = torch.cat((idx, idx_next), dim=1) # (B, T) => (B, T+1)\n",
    "\n",
    "    return idx\n",
    "\n",
    "model: nn.Module = BigramLanguageModel(vocab_size)\n",
    "logits, loss = model(xb, yb)\n",
    "print(logits.size())\n",
    "print(loss) # Should be approximately equal to -ln(1/65) reflecting random guessing\n",
    "\n",
    "# We start the generation with a (1, 1) (single-element) tensor with a single 0. Note\n",
    "# that 0 corresponds to the newline character in our sorted list of tokens, so it's a\n",
    "# reasonable way to initiate the response sequence.\n",
    "#\n",
    "# model.generate() will then append 100 new tokens, yielding a tensor of shape\n",
    "# (1, 101), which we then index by the 0th row and convert it into a simple python\n",
    "# list. We then pass our list of integers to our decode function to get a string\n",
    "# of characters.\n",
    "idx: tensor = torch.zeros((1, 1), dtype=torch.long)\n",
    "print(decode(model.generate(idx, max_new_tokens=100)[0].tolist()))"
   ]
  },
  {
   "cell_type": "markdown",
   "id": "d410c153",
   "metadata": {},
   "source": [
    "## Bigram Model Training"
   ]
  },
  {
   "cell_type": "code",
   "execution_count": 24,
   "id": "a5be0b1f",
   "metadata": {},
   "outputs": [],
   "source": [
    "# LR is often 3e-4 for bigger networks but smaller networks like this one\n",
    "# are fine with much bigger gradient updates like 1e-3\n",
    "optimizer: torch.optim.AdamW = torch.optim.AdamW(model.parameters(), lr=1e-3)"
   ]
  },
  {
   "cell_type": "code",
   "execution_count": 34,
   "id": "9abc6001",
   "metadata": {},
   "outputs": [
    {
     "name": "stdout",
     "output_type": "stream",
     "text": [
      "2.454188108444214\n"
     ]
    }
   ],
   "source": [
    "batch_size: int = 32\n",
    "for steps in range(10000):\n",
    "  xb, yb = get_batch('train')\n",
    "\n",
    "  optimizer.zero_grad(set_to_none=True)\n",
    "  logits, loss = model(xb, yb)\n",
    "  loss.backward()\n",
    "  optimizer.step()\n",
    "\n",
    "print(loss.item())"
   ]
  },
  {
   "cell_type": "code",
   "execution_count": 36,
   "id": "31d547f8",
   "metadata": {},
   "outputs": [
    {
     "name": "stdout",
     "output_type": "stream",
     "text": [
      "\n",
      "\n",
      "\n",
      "EYod hat ncothave ingr t sou fr in nd songnokerd t ker.\n",
      "FI ases ratha h cuemaloot Rwakithiorortthe kndit, I\n",
      "Th'sco ntath! f peso s lt me adws t wnolour!'sherelas ast benan.\n",
      "A helagriss, s hy nd chaden, dy myoulothoofouris, yard\n",
      "\n",
      "AUCA:\n",
      "Whathe ig.\n",
      "TEd; he s thicrous pof thofaro-\n",
      "Lonthanerimpud EO:\n",
      "blaithencken th g wh se had.\n",
      "Vore tha-otr;\n",
      "BUELI t WAmble ofe'spthespout glar belos hat itliths s sar\n"
     ]
    }
   ],
   "source": [
    "print(decode(model.generate(idx, max_new_tokens=400)[0].tolist()))"
   ]
  },
  {
   "cell_type": "code",
   "execution_count": null,
   "id": "8a836892",
   "metadata": {},
   "outputs": [],
   "source": []
  }
 ],
 "metadata": {
  "kernelspec": {
   "display_name": "Python 3 (ipykernel)",
   "language": "python",
   "name": "python3"
  },
  "language_info": {
   "codemirror_mode": {
    "name": "ipython",
    "version": 3
   },
   "file_extension": ".py",
   "mimetype": "text/x-python",
   "name": "python",
   "nbconvert_exporter": "python",
   "pygments_lexer": "ipython3",
   "version": "3.10.13"
  }
 },
 "nbformat": 4,
 "nbformat_minor": 5
}
